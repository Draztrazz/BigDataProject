{
 "cells": [
  {
   "cell_type": "code",
   "execution_count": 1,
   "id": "eaead947",
   "metadata": {},
   "outputs": [],
   "source": [
    "# for data handling\n",
    "import pandas as pd\n",
    "import numpy as np\n",
    "\n",
    "# train-test split\n",
    "from sklearn.model_selection import train_test_split\n",
    "\n",
    "# for evaluation\n",
    "from sklearn.metrics import mean_squared_error\n",
    "from sklearn.metrics import mean_absolute_error\n",
    "\n",
    "# dummy models for comparison\n",
    "from sklearn.dummy import DummyRegressor\n",
    "\n",
    "# regression models\n",
    "from sklearn.linear_model import LinearRegression\n",
    "from sklearn.neighbors import KNeighborsRegressor\n",
    "from sklearn.ensemble import RandomForestRegressor\n",
    "import xgboost as xgb\n",
    "\n",
    "# for removing outliers\n",
    "from scipy import stats\n",
    "\n",
    "# for identifying best parameters\n",
    "from sklearn.model_selection import RandomizedSearchCV\n",
    "from sklearn.model_selection import GridSearchCV\n",
    "\n",
    "# for visualizing the data\n",
    "import seaborn as sns\n",
    "import matplotlib.pyplot as plt\n",
    "\n",
    "# to remove outerliers\n",
    "from scipy import stats\n",
    "\n",
    "# for k-fold cross validation\n",
    "from sklearn.model_selection import cross_val_score, KFold"
   ]
  },
  {
   "cell_type": "markdown",
   "id": "d0e57ce8",
   "metadata": {},
   "source": [
    "# Overview of the dataset"
   ]
  },
  {
   "cell_type": "markdown",
   "id": "25fa99cc",
   "metadata": {},
   "source": [
    "Here we will be using two dataset; one for the flights and one for the airports, however, these will stiched together later."
   ]
  },
  {
   "cell_type": "code",
   "execution_count": 3,
   "id": "58361a94",
   "metadata": {},
   "outputs": [],
   "source": [
    "flight_df = pd.read_csv('flights.csv', dtype={'DESTINATION_AIRPORT': str, 'ORIGIN_AIRPORT': str})\n",
    "airports_df = pd.read_csv('airports.csv')"
   ]
  },
  {
   "cell_type": "markdown",
   "id": "af3c8574",
   "metadata": {},
   "source": [
    "We make copies, such that we don't risk altering the original file"
   ]
  },
  {
   "cell_type": "code",
   "execution_count": 4,
   "id": "e6125be9",
   "metadata": {},
   "outputs": [],
   "source": [
    "f_df = flight_df.copy()\n",
    "a_df = airports_df.copy()"
   ]
  },
  {
   "cell_type": "markdown",
   "id": "4c04bd1f",
   "metadata": {},
   "source": [
    "We check the dimensions and take a look at the main dataset, flights.csv"
   ]
  },
  {
   "cell_type": "code",
   "execution_count": 4,
   "id": "9607751d",
   "metadata": {},
   "outputs": [
    {
     "data": {
      "text/plain": [
       "(5819079, 31)"
      ]
     },
     "execution_count": 4,
     "metadata": {},
     "output_type": "execute_result"
    }
   ],
   "source": [
    "f_df.shape"
   ]
  },
  {
   "cell_type": "code",
   "execution_count": 5,
   "id": "16905339",
   "metadata": {},
   "outputs": [
    {
     "data": {
      "text/html": [
       "<div>\n",
       "<style scoped>\n",
       "    .dataframe tbody tr th:only-of-type {\n",
       "        vertical-align: middle;\n",
       "    }\n",
       "\n",
       "    .dataframe tbody tr th {\n",
       "        vertical-align: top;\n",
       "    }\n",
       "\n",
       "    .dataframe thead th {\n",
       "        text-align: right;\n",
       "    }\n",
       "</style>\n",
       "<table border=\"1\" class=\"dataframe\">\n",
       "  <thead>\n",
       "    <tr style=\"text-align: right;\">\n",
       "      <th></th>\n",
       "      <th>YEAR</th>\n",
       "      <th>MONTH</th>\n",
       "      <th>DAY</th>\n",
       "      <th>DAY_OF_WEEK</th>\n",
       "      <th>AIRLINE</th>\n",
       "      <th>FLIGHT_NUMBER</th>\n",
       "      <th>TAIL_NUMBER</th>\n",
       "      <th>ORIGIN_AIRPORT</th>\n",
       "      <th>DESTINATION_AIRPORT</th>\n",
       "      <th>SCHEDULED_DEPARTURE</th>\n",
       "      <th>...</th>\n",
       "      <th>ARRIVAL_TIME</th>\n",
       "      <th>ARRIVAL_DELAY</th>\n",
       "      <th>DIVERTED</th>\n",
       "      <th>CANCELLED</th>\n",
       "      <th>CANCELLATION_REASON</th>\n",
       "      <th>AIR_SYSTEM_DELAY</th>\n",
       "      <th>SECURITY_DELAY</th>\n",
       "      <th>AIRLINE_DELAY</th>\n",
       "      <th>LATE_AIRCRAFT_DELAY</th>\n",
       "      <th>WEATHER_DELAY</th>\n",
       "    </tr>\n",
       "  </thead>\n",
       "  <tbody>\n",
       "    <tr>\n",
       "      <th>0</th>\n",
       "      <td>2015</td>\n",
       "      <td>1</td>\n",
       "      <td>1</td>\n",
       "      <td>4</td>\n",
       "      <td>AS</td>\n",
       "      <td>98</td>\n",
       "      <td>N407AS</td>\n",
       "      <td>ANC</td>\n",
       "      <td>SEA</td>\n",
       "      <td>5</td>\n",
       "      <td>...</td>\n",
       "      <td>408.0</td>\n",
       "      <td>-22.0</td>\n",
       "      <td>0</td>\n",
       "      <td>0</td>\n",
       "      <td>NaN</td>\n",
       "      <td>NaN</td>\n",
       "      <td>NaN</td>\n",
       "      <td>NaN</td>\n",
       "      <td>NaN</td>\n",
       "      <td>NaN</td>\n",
       "    </tr>\n",
       "    <tr>\n",
       "      <th>1</th>\n",
       "      <td>2015</td>\n",
       "      <td>1</td>\n",
       "      <td>1</td>\n",
       "      <td>4</td>\n",
       "      <td>AA</td>\n",
       "      <td>2336</td>\n",
       "      <td>N3KUAA</td>\n",
       "      <td>LAX</td>\n",
       "      <td>PBI</td>\n",
       "      <td>10</td>\n",
       "      <td>...</td>\n",
       "      <td>741.0</td>\n",
       "      <td>-9.0</td>\n",
       "      <td>0</td>\n",
       "      <td>0</td>\n",
       "      <td>NaN</td>\n",
       "      <td>NaN</td>\n",
       "      <td>NaN</td>\n",
       "      <td>NaN</td>\n",
       "      <td>NaN</td>\n",
       "      <td>NaN</td>\n",
       "    </tr>\n",
       "    <tr>\n",
       "      <th>2</th>\n",
       "      <td>2015</td>\n",
       "      <td>1</td>\n",
       "      <td>1</td>\n",
       "      <td>4</td>\n",
       "      <td>US</td>\n",
       "      <td>840</td>\n",
       "      <td>N171US</td>\n",
       "      <td>SFO</td>\n",
       "      <td>CLT</td>\n",
       "      <td>20</td>\n",
       "      <td>...</td>\n",
       "      <td>811.0</td>\n",
       "      <td>5.0</td>\n",
       "      <td>0</td>\n",
       "      <td>0</td>\n",
       "      <td>NaN</td>\n",
       "      <td>NaN</td>\n",
       "      <td>NaN</td>\n",
       "      <td>NaN</td>\n",
       "      <td>NaN</td>\n",
       "      <td>NaN</td>\n",
       "    </tr>\n",
       "    <tr>\n",
       "      <th>3</th>\n",
       "      <td>2015</td>\n",
       "      <td>1</td>\n",
       "      <td>1</td>\n",
       "      <td>4</td>\n",
       "      <td>AA</td>\n",
       "      <td>258</td>\n",
       "      <td>N3HYAA</td>\n",
       "      <td>LAX</td>\n",
       "      <td>MIA</td>\n",
       "      <td>20</td>\n",
       "      <td>...</td>\n",
       "      <td>756.0</td>\n",
       "      <td>-9.0</td>\n",
       "      <td>0</td>\n",
       "      <td>0</td>\n",
       "      <td>NaN</td>\n",
       "      <td>NaN</td>\n",
       "      <td>NaN</td>\n",
       "      <td>NaN</td>\n",
       "      <td>NaN</td>\n",
       "      <td>NaN</td>\n",
       "    </tr>\n",
       "    <tr>\n",
       "      <th>4</th>\n",
       "      <td>2015</td>\n",
       "      <td>1</td>\n",
       "      <td>1</td>\n",
       "      <td>4</td>\n",
       "      <td>AS</td>\n",
       "      <td>135</td>\n",
       "      <td>N527AS</td>\n",
       "      <td>SEA</td>\n",
       "      <td>ANC</td>\n",
       "      <td>25</td>\n",
       "      <td>...</td>\n",
       "      <td>259.0</td>\n",
       "      <td>-21.0</td>\n",
       "      <td>0</td>\n",
       "      <td>0</td>\n",
       "      <td>NaN</td>\n",
       "      <td>NaN</td>\n",
       "      <td>NaN</td>\n",
       "      <td>NaN</td>\n",
       "      <td>NaN</td>\n",
       "      <td>NaN</td>\n",
       "    </tr>\n",
       "  </tbody>\n",
       "</table>\n",
       "<p>5 rows × 31 columns</p>\n",
       "</div>"
      ],
      "text/plain": [
       "   YEAR  MONTH  DAY  DAY_OF_WEEK AIRLINE  FLIGHT_NUMBER TAIL_NUMBER  \\\n",
       "0  2015      1    1            4      AS             98      N407AS   \n",
       "1  2015      1    1            4      AA           2336      N3KUAA   \n",
       "2  2015      1    1            4      US            840      N171US   \n",
       "3  2015      1    1            4      AA            258      N3HYAA   \n",
       "4  2015      1    1            4      AS            135      N527AS   \n",
       "\n",
       "  ORIGIN_AIRPORT DESTINATION_AIRPORT  SCHEDULED_DEPARTURE  ...  ARRIVAL_TIME  \\\n",
       "0            ANC                 SEA                    5  ...         408.0   \n",
       "1            LAX                 PBI                   10  ...         741.0   \n",
       "2            SFO                 CLT                   20  ...         811.0   \n",
       "3            LAX                 MIA                   20  ...         756.0   \n",
       "4            SEA                 ANC                   25  ...         259.0   \n",
       "\n",
       "   ARRIVAL_DELAY  DIVERTED  CANCELLED  CANCELLATION_REASON  AIR_SYSTEM_DELAY  \\\n",
       "0          -22.0         0          0                  NaN               NaN   \n",
       "1           -9.0         0          0                  NaN               NaN   \n",
       "2            5.0         0          0                  NaN               NaN   \n",
       "3           -9.0         0          0                  NaN               NaN   \n",
       "4          -21.0         0          0                  NaN               NaN   \n",
       "\n",
       "   SECURITY_DELAY  AIRLINE_DELAY  LATE_AIRCRAFT_DELAY  WEATHER_DELAY  \n",
       "0             NaN            NaN                  NaN            NaN  \n",
       "1             NaN            NaN                  NaN            NaN  \n",
       "2             NaN            NaN                  NaN            NaN  \n",
       "3             NaN            NaN                  NaN            NaN  \n",
       "4             NaN            NaN                  NaN            NaN  \n",
       "\n",
       "[5 rows x 31 columns]"
      ]
     },
     "execution_count": 5,
     "metadata": {},
     "output_type": "execute_result"
    }
   ],
   "source": [
    "f_df.head(5)"
   ]
  },
  {
   "cell_type": "markdown",
   "id": "85472210",
   "metadata": {},
   "source": [
    "We make a quick heatmap to get some initial insight into what features impact eachother, most importantly which of the impact the target variable.\n",
    "\n",
    "We also drop quite a few features which aren't numerical as these can't be incorporated into the heatmap.\n"
   ]
  },
  {
   "cell_type": "code",
   "execution_count": 5,
   "id": "3e6fb760",
   "metadata": {},
   "outputs": [
    {
     "data": {
      "image/png": "[encoded data removed]",
      "text/plain": [
       "<Figure size 1000x800 with 2 Axes>"
      ]
     },
     "metadata": {},
     "output_type": "display_data"
    }
   ],
   "source": [
    "# drop non-numerical values\n",
    "f_df_heat = f_df.drop(['AIRLINE', 'ORIGIN_AIRPORT', 'DESTINATION_AIRPORT', 'TAIL_NUMBER', 'DIVERTED','CANCELLED', 'CANCELLATION_REASON', 'AIR_SYSTEM_DELAY',\n",
    "                   'SECURITY_DELAY', 'AIRLINE_DELAY', 'LATE_AIRCRAFT_DELAY', 'WEATHER_DELAY'], axis=1)\n",
    "\n",
    "\n",
    "plt.figure(figsize=(10, 8))\n",
    "    \n",
    "correlation_matrix = f_df_heat.corr()\n",
    "\n",
    "# plot the heatmap\n",
    "sns.heatmap(correlation_matrix, annot=True, cmap=\"coolwarm\", fmt=\".2f\")\n",
    "\n",
    "plt.show()"
   ]
  },
  {
   "cell_type": "markdown",
   "id": "a9d140b0",
   "metadata": {},
   "source": [
    "This show a clear correlation between departure delay and arrival delay, which is ofcourse due to their sequential relationship. \n",
    "\n"
   ]
  },
  {
   "cell_type": "markdown",
   "id": "7dea16cb",
   "metadata": {},
   "source": [
    "# Data cleaning & preprocessing"
   ]
  },
  {
   "cell_type": "markdown",
   "id": "339d6649",
   "metadata": {},
   "source": [
    "Based on the buisness case itself, it is decided that the target prediction, thereyby the target variable for this predictive model will be the delay at arrival, making ARRIVAL_DELAY our target variable.\n",
    "\n",
    "It should then be considered what features (columns) are relevant to this.\n",
    "\n",
    "Firstly, DIVERTED or CANCELLED flights will not be considered as part of the scope meaning these variables are removed including CANCELLATION_REASON.\n",
    "\n",
    "Secondly, any variable which will not be available to model before a prediction should be removed as it would be senseless\n",
    "to train the model on variables it will not be able to use for actual predictions.\n",
    "This includes several features, including some which show strong correlation with the target variable:\n",
    "- DEPARTURE_TIME (We cannot know the actual departure time before the departure occurs, only the scheduled time)\n",
    "- DEPARTURE_DELAY (We cannot know the delay of departure before a delay occurs)\n",
    "- TAXI_OUT (We cannot know this before it occurs)\n",
    "- WHEELS_OFF (We cannot know the exact time of take-off before it occurs)\n",
    "- ELAPSED_TIME and AIR_TIME (We cannot know actual total time or air time before the flight has landed)\n",
    "- WHEELS_ON (We cannot know this before the flight actually lands)\n",
    "- TAXI_IN (We cannot know this until it occurs)\n",
    "- ARRIVAL_TIME (We cannot know this before it occurs - it is partly what we're attempting to predict)\n",
    "- All delay reasons will also be removed which includes: AIR_SYSTEM_DELAY, SECURITY_DELAY, AIRLINE_DELAY, LATE_AIRCRAFT_DELAY and WEATHER_DELAY\n",
    "\n",
    "Next, we should also remove features which give little to know useful information for potential models:\n",
    "- YEAR (All data is in 2015 meaning this gives no usefull information) \n",
    "- FLIGHT_NUMBER and TAIL_NUMBER (This is highly specific but could POTENTIALLY be interesting for further research as flights who are of the same model or doing a specific route could be more likely to be delayed, but for now it might just add uneeded complexity to the dataframe)\n",
    "- DISTANCE (This gives pretty much the same information as SCHEDULED_TIME, we've simply decided that the latter might prove more useful to a model than the former)\n",
    "\n",
    "\n"
   ]
  },
  {
   "cell_type": "code",
   "execution_count": 7,
   "id": "38a6eaef",
   "metadata": {},
   "outputs": [],
   "source": [
    "# drop all columns that are not relevant to a model\n",
    "f_df = f_df.drop(['YEAR', 'DEPARTURE_DELAY', 'DEPARTURE_TIME', 'TAXI_OUT','WHEELS_OFF', 'ELAPSED_TIME', 'AIR_TIME',\n",
    "                  'WHEELS_ON','TAXI_IN','ARRIVAL_TIME','DIVERTED','CANCELLED', 'CANCELLATION_REASON', 'AIR_SYSTEM_DELAY',\n",
    "                   'SECURITY_DELAY', 'AIRLINE_DELAY', 'LATE_AIRCRAFT_DELAY', 'WEATHER_DELAY', 'TAIL_NUMBER',\n",
    "                  'FLIGHT_NUMBER', 'DISTANCE'], axis=1)\n"
   ]
  },
  {
   "cell_type": "markdown",
   "id": "1d00493c",
   "metadata": {},
   "source": [
    "Removing all this still leaves us with quite a few features, including: AIRLINES, ORIGIN_AIRPORT & DESTINATION_AIRPORT.\n",
    "\n",
    "Since we're doing regression these should be encoded to numeric values, which will turn them into features (columns). But this large number of features might introduce unwanted complexity to any models since this encoding (which is gonna have to be a one-hot encoding due to the non-hierachial relation between the categorial values otherwise we would've been able to do label-encoding) is gonna create around 600 new feaures (columns).\n",
    "\n",
    "In order to reduce this we're gonna attach the airports.csv dataframe to the flights.csv dataframe. Then we map the origin and destination airports to their respective states and make to new features (columns) called ORIGIN_STATE & DESTINATION_STATE. This will reduce the 600 features from encoding to just 128.\n"
   ]
  },
  {
   "cell_type": "code",
   "execution_count": 8,
   "id": "88ed3584",
   "metadata": {},
   "outputs": [
    {
     "data": {
      "text/html": [
       "<div>\n",
       "<style scoped>\n",
       "    .dataframe tbody tr th:only-of-type {\n",
       "        vertical-align: middle;\n",
       "    }\n",
       "\n",
       "    .dataframe tbody tr th {\n",
       "        vertical-align: top;\n",
       "    }\n",
       "\n",
       "    .dataframe thead th {\n",
       "        text-align: right;\n",
       "    }\n",
       "</style>\n",
       "<table border=\"1\" class=\"dataframe\">\n",
       "  <thead>\n",
       "    <tr style=\"text-align: right;\">\n",
       "      <th></th>\n",
       "      <th>MONTH</th>\n",
       "      <th>DAY</th>\n",
       "      <th>DAY_OF_WEEK</th>\n",
       "      <th>AIRLINE</th>\n",
       "      <th>SCHEDULED_DEPARTURE</th>\n",
       "      <th>SCHEDULED_TIME</th>\n",
       "      <th>SCHEDULED_ARRIVAL</th>\n",
       "      <th>ARRIVAL_DELAY</th>\n",
       "      <th>ORIGIN_STATE</th>\n",
       "      <th>DESTINATION_STATE</th>\n",
       "    </tr>\n",
       "  </thead>\n",
       "  <tbody>\n",
       "    <tr>\n",
       "      <th>0</th>\n",
       "      <td>4</td>\n",
       "      <td>7</td>\n",
       "      <td>2</td>\n",
       "      <td>EV</td>\n",
       "      <td>1340</td>\n",
       "      <td>56.0</td>\n",
       "      <td>1436</td>\n",
       "      <td>-13.0</td>\n",
       "      <td>IN</td>\n",
       "      <td>MI</td>\n",
       "    </tr>\n",
       "    <tr>\n",
       "      <th>1</th>\n",
       "      <td>1</td>\n",
       "      <td>24</td>\n",
       "      <td>6</td>\n",
       "      <td>AS</td>\n",
       "      <td>1910</td>\n",
       "      <td>155.0</td>\n",
       "      <td>2145</td>\n",
       "      <td>-12.0</td>\n",
       "      <td>NV</td>\n",
       "      <td>WA</td>\n",
       "    </tr>\n",
       "    <tr>\n",
       "      <th>2</th>\n",
       "      <td>7</td>\n",
       "      <td>8</td>\n",
       "      <td>3</td>\n",
       "      <td>WN</td>\n",
       "      <td>630</td>\n",
       "      <td>110.0</td>\n",
       "      <td>820</td>\n",
       "      <td>-8.0</td>\n",
       "      <td>CA</td>\n",
       "      <td>WA</td>\n",
       "    </tr>\n",
       "    <tr>\n",
       "      <th>3</th>\n",
       "      <td>5</td>\n",
       "      <td>26</td>\n",
       "      <td>2</td>\n",
       "      <td>WN</td>\n",
       "      <td>810</td>\n",
       "      <td>100.0</td>\n",
       "      <td>950</td>\n",
       "      <td>152.0</td>\n",
       "      <td>MO</td>\n",
       "      <td>TX</td>\n",
       "    </tr>\n",
       "    <tr>\n",
       "      <th>4</th>\n",
       "      <td>7</td>\n",
       "      <td>6</td>\n",
       "      <td>1</td>\n",
       "      <td>UA</td>\n",
       "      <td>1000</td>\n",
       "      <td>498.0</td>\n",
       "      <td>1318</td>\n",
       "      <td>-2.0</td>\n",
       "      <td>TX</td>\n",
       "      <td>HI</td>\n",
       "    </tr>\n",
       "  </tbody>\n",
       "</table>\n",
       "</div>"
      ],
      "text/plain": [
       "   MONTH  DAY  DAY_OF_WEEK AIRLINE  SCHEDULED_DEPARTURE  SCHEDULED_TIME  \\\n",
       "0      4    7            2      EV                 1340            56.0   \n",
       "1      1   24            6      AS                 1910           155.0   \n",
       "2      7    8            3      WN                  630           110.0   \n",
       "3      5   26            2      WN                  810           100.0   \n",
       "4      7    6            1      UA                 1000           498.0   \n",
       "\n",
       "   SCHEDULED_ARRIVAL  ARRIVAL_DELAY ORIGIN_STATE DESTINATION_STATE  \n",
       "0               1436          -13.0           IN                MI  \n",
       "1               2145          -12.0           NV                WA  \n",
       "2                820           -8.0           CA                WA  \n",
       "3                950          152.0           MO                TX  \n",
       "4               1318           -2.0           TX                HI  "
      ]
     },
     "execution_count": 8,
     "metadata": {},
     "output_type": "execute_result"
    }
   ],
   "source": [
    "# merge the 2 dataframes and make the state into origin states\n",
    "f_df = pd.merge(f_df, a_df, left_on='ORIGIN_AIRPORT', right_on='IATA_CODE', how='left')\n",
    "f_df = f_df.rename(columns={'STATE': 'ORIGIN_STATE'})\n",
    "f_df = f_df.drop(columns=['IATA_CODE'])\n",
    "\n",
    "# merge the 2 dataframes and make the state into destination states\n",
    "f_df = pd.merge(f_df, a_df, left_on='DESTINATION_AIRPORT', right_on='IATA_CODE', how='left')\n",
    "f_df = f_df.rename(columns={'STATE': 'DESTINATION_STATE'})\n",
    "f_df = f_df.drop(columns=['IATA_CODE'])\n",
    "\n",
    "\n",
    "f_df['ORIGIN_STATE'] = f_df['ORIGIN_STATE']\n",
    "f_df['DESTINATION_STATE'] = f_df['DESTINATION_STATE']\n",
    "\n",
    "# drop all of the non-informative features which came from the airports.csv dataframe as well as airports themselves\n",
    "f_df = f_df.drop(['COUNTRY_x', 'LATITUDE_x', 'LONGITUDE_x', 'AIRPORT_y', 'CITY_y', 'COUNTRY_y', 'LATITUDE_y',\n",
    "                  'LONGITUDE_y', 'AIRPORT_x', 'CITY_x', 'ORIGIN_AIRPORT', 'DESTINATION_AIRPORT'], axis=1)\n",
    "\n",
    "\n",
    "f_df.head(5)    "
   ]
  },
  {
   "cell_type": "markdown",
   "id": "2034341f",
   "metadata": {},
   "source": [
    "Another caveat, which was discovered in the flights.csv dataframe is the fact that every single airport code (LAX and such) have been turned into a rather undecodable number for every flight which occured in October of 2015. This also messes with the mapping of the 2 dataframes as all origin and destination stages are simply given as NaN's. Since the dataset consists of 5.8 million rows we've decided to simply remove all flight from October, although this might reduce the performance of potential models somewhat."
   ]
  },
  {
   "cell_type": "code",
   "execution_count": 9,
   "id": "bba72de4",
   "metadata": {},
   "outputs": [],
   "source": [
    "f_df = f_df[f_df['MONTH'] != 10]"
   ]
  },
  {
   "cell_type": "markdown",
   "id": "f61d4cfa",
   "metadata": {},
   "source": [
    "There's also the elements of time specifically SCHEDULED_DEPARTURE and SCHEDULED_ARRIVAL. These are both show as intergers meaning that 16:05 would be 1603 and 01:30 would simply be 130. This could pose potential problems to model performance (NOTE: look into why this might be problematic) which is why we'll be splitting these 2 features into 4 - hours and minutes for each."
   ]
  },
  {
   "cell_type": "code",
   "execution_count": 10,
   "id": "a8120241",
   "metadata": {},
   "outputs": [],
   "source": [
    "# turns it into datetime format so that it may be split up properly\n",
    "f_df['SCHEDULED_DEPARTURE'] = pd.to_datetime(f_df['SCHEDULED_DEPARTURE'], format='%H%M', errors='coerce')\n",
    "\n",
    "f_df['SCHEDULED_ARRIVAL'] = pd.to_datetime(f_df['SCHEDULED_ARRIVAL'], format='%H%M', errors='coerce')\n",
    "\n",
    "f_df['DEPARTURE_HOUR'] = f_df['SCHEDULED_DEPARTURE'].dt.hour\n",
    "f_df['DEPARTURE_MINUTE'] = f_df['SCHEDULED_DEPARTURE'].dt.minute\n",
    "\n",
    "f_df['ARRIVAL_HOUR'] = f_df['SCHEDULED_ARRIVAL'].dt.hour\n",
    "f_df['ARRIVAL_MINUTE'] = f_df['SCHEDULED_ARRIVAL'].dt.minute\n",
    "\n",
    "# drop the old features\n",
    "f_df = f_df.drop(['SCHEDULED_DEPARTURE', 'SCHEDULED_ARRIVAL'], axis=1)\n"
   ]
  },
  {
   "cell_type": "markdown",
   "id": "cdf2ccb6",
   "metadata": {},
   "source": [
    "We now look at how complete the dataset is:"
   ]
  },
  {
   "cell_type": "code",
   "execution_count": 8,
   "id": "19c936df",
   "metadata": {},
   "outputs": [
    {
     "data": {
      "text/html": [
       "<div>\n",
       "<style scoped>\n",
       "    .dataframe tbody tr th:only-of-type {\n",
       "        vertical-align: middle;\n",
       "    }\n",
       "\n",
       "    .dataframe tbody tr th {\n",
       "        vertical-align: top;\n",
       "    }\n",
       "\n",
       "    .dataframe thead th {\n",
       "        text-align: right;\n",
       "    }\n",
       "</style>\n",
       "<table border=\"1\" class=\"dataframe\">\n",
       "  <thead>\n",
       "    <tr style=\"text-align: right;\">\n",
       "      <th></th>\n",
       "      <th>variable</th>\n",
       "      <th>missing values</th>\n",
       "      <th>filling factor (%)</th>\n",
       "    </tr>\n",
       "  </thead>\n",
       "  <tbody>\n",
       "    <tr>\n",
       "      <th>0</th>\n",
       "      <td>ARRIVAL_DELAY</td>\n",
       "      <td>101784</td>\n",
       "      <td>98.091400</td>\n",
       "    </tr>\n",
       "    <tr>\n",
       "      <th>1</th>\n",
       "      <td>ARRIVAL_HOUR</td>\n",
       "      <td>13559</td>\n",
       "      <td>99.745749</td>\n",
       "    </tr>\n",
       "    <tr>\n",
       "      <th>2</th>\n",
       "      <td>ARRIVAL_MINUTE</td>\n",
       "      <td>13559</td>\n",
       "      <td>99.745749</td>\n",
       "    </tr>\n",
       "    <tr>\n",
       "      <th>3</th>\n",
       "      <td>DEPARTURE_HOUR</td>\n",
       "      <td>864</td>\n",
       "      <td>99.983799</td>\n",
       "    </tr>\n",
       "    <tr>\n",
       "      <th>4</th>\n",
       "      <td>DEPARTURE_MINUTE</td>\n",
       "      <td>864</td>\n",
       "      <td>99.983799</td>\n",
       "    </tr>\n",
       "    <tr>\n",
       "      <th>5</th>\n",
       "      <td>SCHEDULED_TIME</td>\n",
       "      <td>6</td>\n",
       "      <td>99.999887</td>\n",
       "    </tr>\n",
       "    <tr>\n",
       "      <th>6</th>\n",
       "      <td>MONTH</td>\n",
       "      <td>0</td>\n",
       "      <td>100.000000</td>\n",
       "    </tr>\n",
       "    <tr>\n",
       "      <th>7</th>\n",
       "      <td>DAY</td>\n",
       "      <td>0</td>\n",
       "      <td>100.000000</td>\n",
       "    </tr>\n",
       "    <tr>\n",
       "      <th>8</th>\n",
       "      <td>DAY_OF_WEEK</td>\n",
       "      <td>0</td>\n",
       "      <td>100.000000</td>\n",
       "    </tr>\n",
       "    <tr>\n",
       "      <th>9</th>\n",
       "      <td>AIRLINE</td>\n",
       "      <td>0</td>\n",
       "      <td>100.000000</td>\n",
       "    </tr>\n",
       "    <tr>\n",
       "      <th>10</th>\n",
       "      <td>ORIGIN_STATE</td>\n",
       "      <td>0</td>\n",
       "      <td>100.000000</td>\n",
       "    </tr>\n",
       "    <tr>\n",
       "      <th>11</th>\n",
       "      <td>DESTINATION_STATE</td>\n",
       "      <td>0</td>\n",
       "      <td>100.000000</td>\n",
       "    </tr>\n",
       "  </tbody>\n",
       "</table>\n",
       "</div>"
      ],
      "text/plain": [
       "             variable  missing values  filling factor (%)\n",
       "0       ARRIVAL_DELAY          101784           98.091400\n",
       "1        ARRIVAL_HOUR           13559           99.745749\n",
       "2      ARRIVAL_MINUTE           13559           99.745749\n",
       "3      DEPARTURE_HOUR             864           99.983799\n",
       "4    DEPARTURE_MINUTE             864           99.983799\n",
       "5      SCHEDULED_TIME               6           99.999887\n",
       "6               MONTH               0          100.000000\n",
       "7                 DAY               0          100.000000\n",
       "8         DAY_OF_WEEK               0          100.000000\n",
       "9             AIRLINE               0          100.000000\n",
       "10       ORIGIN_STATE               0          100.000000\n",
       "11  DESTINATION_STATE               0          100.000000"
      ]
     },
     "execution_count": 8,
     "metadata": {},
     "output_type": "execute_result"
    }
   ],
   "source": [
    "# check for missing values\n",
    "missing_df = f_df.isnull().sum(axis=0).reset_index()\n",
    "missing_df.columns = ['variable', 'missing values']\n",
    "missing_df['filling factor (%)']=(f_df.shape[0]-missing_df['missing values'])/f_df.shape[0]*100\n",
    "missing_df.sort_values('filling factor (%)').reset_index(drop = True)"
   ]
  },
  {
   "cell_type": "markdown",
   "id": "be21a1b0",
   "metadata": {},
   "source": [
    "There apears to around a 100.000 missing values, which is likely to due to the diverted of cancelled flight. However, considering that this only makes up around 2% of the overall dataset it should be fine to just remove these rows."
   ]
  },
  {
   "cell_type": "code",
   "execution_count": 17,
   "id": "62a7b482",
   "metadata": {},
   "outputs": [],
   "source": [
    "f_df = f_df.dropna()"
   ]
  },
  {
   "cell_type": "markdown",
   "id": "ca724d88",
   "metadata": {},
   "source": [
    "Outliers in the target variable should also be considered, since there might be some delays which should just not be included in the model due to their ridicilous values"
   ]
  },
  {
   "cell_type": "code",
   "execution_count": 11,
   "id": "0ac50e8a",
   "metadata": {},
   "outputs": [
    {
     "name": "stdout",
     "output_type": "stream",
     "text": [
      "         MONTH  DAY  DAY_OF_WEEK AIRLINE  SCHEDULED_TIME  ARRIVAL_DELAY  \\\n",
      "5741527     12   27            7      DL           107.0          124.0   \n",
      "2533579      6    9            2      UA           325.0          124.0   \n",
      "2683984      6   18            4      WN           120.0          124.0   \n",
      "1732668      4   21            2      MQ           140.0          124.0   \n",
      "497157       2    2            1      AA           105.0          124.0   \n",
      "5652726     12   21            1      EV            83.0          124.0   \n",
      "3102744      7   13            1      WN           150.0          124.0   \n",
      "2601180      6   13            6      WN            80.0          124.0   \n",
      "722811       2   17            2      AS           100.0          124.0   \n",
      "3179693      7   18            6      DL           168.0          124.0   \n",
      "\n",
      "        ORIGIN_STATE DESTINATION_STATE  DEPARTURE_HOUR  DEPARTURE_MINUTE  \\\n",
      "5741527           NM                UT             6.0               5.0   \n",
      "2533579           CA                HI            19.0              33.0   \n",
      "2683984           MD                FL            17.0              30.0   \n",
      "1732668           TX                KY            11.0              55.0   \n",
      "497157            NC                NY            19.0               5.0   \n",
      "5652726           TX                MS             7.0              30.0   \n",
      "3102744           NV                WA            21.0               5.0   \n",
      "2601180           CA                NV            19.0              55.0   \n",
      "722811            OR                CA            16.0              25.0   \n",
      "3179693           FL                NY            11.0              59.0   \n",
      "\n",
      "         ARRIVAL_HOUR  ARRIVAL_MINUTE  \n",
      "5741527           7.0            52.0  \n",
      "2533579          21.0            58.0  \n",
      "2683984          19.0            30.0  \n",
      "1732668          15.0            15.0  \n",
      "497157           20.0            50.0  \n",
      "5652726           8.0            53.0  \n",
      "3102744          23.0            35.0  \n",
      "2601180          21.0            15.0  \n",
      "722811           18.0             5.0  \n",
      "3179693          14.0            47.0  \n"
     ]
    }
   ],
   "source": [
    "# sorting by arrival delay in descending order and select the top 10\n",
    "df_top_10 = f_df.sort_values(by='ARRIVAL_DELAY', ascending=False).head(10)\n",
    "\n",
    "\n",
    "print(df_top_10)"
   ]
  },
  {
   "cell_type": "markdown",
   "id": "0c7ee08c",
   "metadata": {},
   "source": [
    "This shows some flight have been delayed by almost 2000 minutes which is not realistic, we'll remove some outliers by using z-scores although there are other methods through which this can be done"
   ]
  },
  {
   "cell_type": "code",
   "execution_count": 11,
   "id": "cf99b949",
   "metadata": {},
   "outputs": [],
   "source": [
    "z_scores = stats.zscore(f_df['ARRIVAL_DELAY'])\n",
    "abs_z_scores = abs(z_scores)\n",
    "\n",
    "# defining a threshold for outlier detection\n",
    "threshold = 3\n",
    "outliers = (abs_z_scores > threshold)\n",
    "\n",
    "# Remove outliers\n",
    "f_df = f_df[~outliers]"
   ]
  },
  {
   "cell_type": "markdown",
   "id": "b938a2ae",
   "metadata": {},
   "source": [
    "Finally, we'll encode the categorical features so that they can be included in the regression models and check the new dimensions of out dataframe.\n",
    "\n"
   ]
  },
  {
   "cell_type": "code",
   "execution_count": 12,
   "id": "a7441f6c",
   "metadata": {},
   "outputs": [
    {
     "data": {
      "text/html": [
       "<div>\n",
       "<style scoped>\n",
       "    .dataframe tbody tr th:only-of-type {\n",
       "        vertical-align: middle;\n",
       "    }\n",
       "\n",
       "    .dataframe tbody tr th {\n",
       "        vertical-align: top;\n",
       "    }\n",
       "\n",
       "    .dataframe thead th {\n",
       "        text-align: right;\n",
       "    }\n",
       "</style>\n",
       "<table border=\"1\" class=\"dataframe\">\n",
       "  <thead>\n",
       "    <tr style=\"text-align: right;\">\n",
       "      <th></th>\n",
       "      <th>MONTH</th>\n",
       "      <th>DAY</th>\n",
       "      <th>DAY_OF_WEEK</th>\n",
       "      <th>SCHEDULED_TIME</th>\n",
       "      <th>ARRIVAL_DELAY</th>\n",
       "      <th>DEPARTURE_HOUR</th>\n",
       "      <th>DEPARTURE_MINUTE</th>\n",
       "      <th>ARRIVAL_HOUR</th>\n",
       "      <th>ARRIVAL_MINUTE</th>\n",
       "      <th>AIRLINE_AS</th>\n",
       "      <th>...</th>\n",
       "      <th>DESTINATION_STATE_TN</th>\n",
       "      <th>DESTINATION_STATE_TX</th>\n",
       "      <th>DESTINATION_STATE_UT</th>\n",
       "      <th>DESTINATION_STATE_VA</th>\n",
       "      <th>DESTINATION_STATE_VI</th>\n",
       "      <th>DESTINATION_STATE_VT</th>\n",
       "      <th>DESTINATION_STATE_WA</th>\n",
       "      <th>DESTINATION_STATE_WI</th>\n",
       "      <th>DESTINATION_STATE_WV</th>\n",
       "      <th>DESTINATION_STATE_WY</th>\n",
       "    </tr>\n",
       "  </thead>\n",
       "  <tbody>\n",
       "    <tr>\n",
       "      <th>0</th>\n",
       "      <td>4</td>\n",
       "      <td>7</td>\n",
       "      <td>2</td>\n",
       "      <td>56.0</td>\n",
       "      <td>-13.0</td>\n",
       "      <td>13.0</td>\n",
       "      <td>40.0</td>\n",
       "      <td>14.0</td>\n",
       "      <td>36.0</td>\n",
       "      <td>0</td>\n",
       "      <td>...</td>\n",
       "      <td>0</td>\n",
       "      <td>0</td>\n",
       "      <td>0</td>\n",
       "      <td>0</td>\n",
       "      <td>0</td>\n",
       "      <td>0</td>\n",
       "      <td>0</td>\n",
       "      <td>0</td>\n",
       "      <td>0</td>\n",
       "      <td>0</td>\n",
       "    </tr>\n",
       "    <tr>\n",
       "      <th>1</th>\n",
       "      <td>1</td>\n",
       "      <td>24</td>\n",
       "      <td>6</td>\n",
       "      <td>155.0</td>\n",
       "      <td>-12.0</td>\n",
       "      <td>19.0</td>\n",
       "      <td>10.0</td>\n",
       "      <td>21.0</td>\n",
       "      <td>45.0</td>\n",
       "      <td>1</td>\n",
       "      <td>...</td>\n",
       "      <td>0</td>\n",
       "      <td>0</td>\n",
       "      <td>0</td>\n",
       "      <td>0</td>\n",
       "      <td>0</td>\n",
       "      <td>0</td>\n",
       "      <td>1</td>\n",
       "      <td>0</td>\n",
       "      <td>0</td>\n",
       "      <td>0</td>\n",
       "    </tr>\n",
       "    <tr>\n",
       "      <th>2</th>\n",
       "      <td>7</td>\n",
       "      <td>8</td>\n",
       "      <td>3</td>\n",
       "      <td>110.0</td>\n",
       "      <td>-8.0</td>\n",
       "      <td>6.0</td>\n",
       "      <td>30.0</td>\n",
       "      <td>8.0</td>\n",
       "      <td>20.0</td>\n",
       "      <td>0</td>\n",
       "      <td>...</td>\n",
       "      <td>0</td>\n",
       "      <td>0</td>\n",
       "      <td>0</td>\n",
       "      <td>0</td>\n",
       "      <td>0</td>\n",
       "      <td>0</td>\n",
       "      <td>1</td>\n",
       "      <td>0</td>\n",
       "      <td>0</td>\n",
       "      <td>0</td>\n",
       "    </tr>\n",
       "    <tr>\n",
       "      <th>3</th>\n",
       "      <td>5</td>\n",
       "      <td>26</td>\n",
       "      <td>2</td>\n",
       "      <td>100.0</td>\n",
       "      <td>152.0</td>\n",
       "      <td>8.0</td>\n",
       "      <td>10.0</td>\n",
       "      <td>9.0</td>\n",
       "      <td>50.0</td>\n",
       "      <td>0</td>\n",
       "      <td>...</td>\n",
       "      <td>0</td>\n",
       "      <td>1</td>\n",
       "      <td>0</td>\n",
       "      <td>0</td>\n",
       "      <td>0</td>\n",
       "      <td>0</td>\n",
       "      <td>0</td>\n",
       "      <td>0</td>\n",
       "      <td>0</td>\n",
       "      <td>0</td>\n",
       "    </tr>\n",
       "    <tr>\n",
       "      <th>4</th>\n",
       "      <td>7</td>\n",
       "      <td>6</td>\n",
       "      <td>1</td>\n",
       "      <td>498.0</td>\n",
       "      <td>-2.0</td>\n",
       "      <td>10.0</td>\n",
       "      <td>0.0</td>\n",
       "      <td>13.0</td>\n",
       "      <td>18.0</td>\n",
       "      <td>0</td>\n",
       "      <td>...</td>\n",
       "      <td>0</td>\n",
       "      <td>0</td>\n",
       "      <td>0</td>\n",
       "      <td>0</td>\n",
       "      <td>0</td>\n",
       "      <td>0</td>\n",
       "      <td>0</td>\n",
       "      <td>0</td>\n",
       "      <td>0</td>\n",
       "      <td>0</td>\n",
       "    </tr>\n",
       "  </tbody>\n",
       "</table>\n",
       "<p>5 rows × 128 columns</p>\n",
       "</div>"
      ],
      "text/plain": [
       "   MONTH  DAY  DAY_OF_WEEK  SCHEDULED_TIME  ARRIVAL_DELAY  DEPARTURE_HOUR  \\\n",
       "0      4    7            2            56.0          -13.0            13.0   \n",
       "1      1   24            6           155.0          -12.0            19.0   \n",
       "2      7    8            3           110.0           -8.0             6.0   \n",
       "3      5   26            2           100.0          152.0             8.0   \n",
       "4      7    6            1           498.0           -2.0            10.0   \n",
       "\n",
       "   DEPARTURE_MINUTE  ARRIVAL_HOUR  ARRIVAL_MINUTE  AIRLINE_AS  ...  \\\n",
       "0              40.0          14.0            36.0           0  ...   \n",
       "1              10.0          21.0            45.0           1  ...   \n",
       "2              30.0           8.0            20.0           0  ...   \n",
       "3              10.0           9.0            50.0           0  ...   \n",
       "4               0.0          13.0            18.0           0  ...   \n",
       "\n",
       "   DESTINATION_STATE_TN  DESTINATION_STATE_TX  DESTINATION_STATE_UT  \\\n",
       "0                     0                     0                     0   \n",
       "1                     0                     0                     0   \n",
       "2                     0                     0                     0   \n",
       "3                     0                     1                     0   \n",
       "4                     0                     0                     0   \n",
       "\n",
       "   DESTINATION_STATE_VA  DESTINATION_STATE_VI  DESTINATION_STATE_VT  \\\n",
       "0                     0                     0                     0   \n",
       "1                     0                     0                     0   \n",
       "2                     0                     0                     0   \n",
       "3                     0                     0                     0   \n",
       "4                     0                     0                     0   \n",
       "\n",
       "   DESTINATION_STATE_WA  DESTINATION_STATE_WI  DESTINATION_STATE_WV  \\\n",
       "0                     0                     0                     0   \n",
       "1                     1                     0                     0   \n",
       "2                     1                     0                     0   \n",
       "3                     0                     0                     0   \n",
       "4                     0                     0                     0   \n",
       "\n",
       "   DESTINATION_STATE_WY  \n",
       "0                     0  \n",
       "1                     0  \n",
       "2                     0  \n",
       "3                     0  \n",
       "4                     0  \n",
       "\n",
       "[5 rows x 128 columns]"
      ]
     },
     "execution_count": 12,
     "metadata": {},
     "output_type": "execute_result"
    }
   ],
   "source": [
    "# encoding the 3 categorial features we have\n",
    "columns_to_encode = ['AIRLINE', 'ORIGIN_STATE', 'DESTINATION_STATE']\n",
    "\n",
    "f_df = pd.get_dummies(f_df, columns=columns_to_encode,  drop_first=True)\n",
    "\n",
    "f_df.head(5)"
   ]
  },
  {
   "cell_type": "code",
   "execution_count": 16,
   "id": "eb53f462",
   "metadata": {},
   "outputs": [
    {
     "data": {
      "text/plain": [
       "(1757857, 128)"
      ]
     },
     "execution_count": 16,
     "metadata": {},
     "output_type": "execute_result"
    }
   ],
   "source": [
    "f_df.shape"
   ]
  },
  {
   "cell_type": "markdown",
   "id": "b0c3a569",
   "metadata": {},
   "source": [
    "We still have more that 5 million rows left which should be plenty for our models - although with the large amount of features the complexity is also increased."
   ]
  },
  {
   "cell_type": "code",
   "execution_count": null,
   "id": "63c128c0",
   "metadata": {},
   "outputs": [],
   "source": [
    "# NOTE: this is simply a reduction of the datasize due to load time problems - the models will likely perform slightly better-\n",
    "# with more data but starting at 500.000 rows is still fine\n",
    "# The code should be run 1 final time with the maximum amount of rows however\n",
    "\n",
    "f_df = f_df.sample(n=500000, random_state=42)"
   ]
  },
  {
   "cell_type": "markdown",
   "id": "55fa3089",
   "metadata": {},
   "source": [
    "# Modelling"
   ]
  },
  {
   "cell_type": "markdown",
   "id": "91364cfa",
   "metadata": {},
   "source": [
    "To begin applying the dataframe to various models we define our X and y, and create a train/test split. A split 70/30 will used as this one of the most common splits."
   ]
  },
  {
   "cell_type": "code",
   "execution_count": 18,
   "id": "3d1ee950",
   "metadata": {},
   "outputs": [],
   "source": [
    "y = f_df['ARRIVAL_DELAY']\n",
    "X = f_df.drop('ARRIVAL_DELAY', axis=1)\n",
    "\n",
    "X_train, X_test, y_train, y_test = train_test_split(X, y, train_size=0.7, random_state=42)"
   ]
  },
  {
   "cell_type": "markdown",
   "id": "ed8bc10b",
   "metadata": {},
   "source": [
    "We will using for different models and compare there performance in order to identify the top performer."
   ]
  },
  {
   "cell_type": "markdown",
   "id": "839000a2",
   "metadata": {},
   "source": [
    "## Linear regression"
   ]
  },
  {
   "cell_type": "markdown",
   "id": "17e61fc5",
   "metadata": {},
   "source": [
    "The first model is multiple linear regression, which is simply done to set a baseline for the comparison. Due to the dataframe's size and complexity this model is likely bound to perform terribly but it will, nevertheless, be compared against the other models in the Results section."
   ]
  },
  {
   "cell_type": "code",
   "execution_count": 19,
   "id": "d4605efc",
   "metadata": {},
   "outputs": [
    {
     "name": "stdout",
     "output_type": "stream",
     "text": [
      "Score on training set: 0.038\n",
      "Score on test set: 0.038\n",
      "Mean Squared Error: 575.2535367755167\n",
      "Root Mean Squared Error: 23.984443641150335\n",
      "Mean Absolute Error: 16.41634131208098\n"
     ]
    }
   ],
   "source": [
    "# define the model\n",
    "f_lr = LinearRegression()\n",
    "\n",
    "# fit the model\n",
    "f_lr.fit(X_train, y_train)\n",
    "\n",
    "# make predictions\n",
    "lr_y_pred = f_lr.predict(X_test)\n",
    "\n",
    "# calculate accuracy\n",
    "print(\"Score on training set: {:.3f}\".format(f_lr.score(X_train, y_train)))\n",
    "print(\"Score on test set: {:.3f}\".format(f_lr.score(X_test, y_test)))\n",
    "\n",
    "# calculate Mean Squared Error\n",
    "lr_mse = mean_squared_error(y_test, lr_y_pred)\n",
    "print(f'Mean Squared Error: {lr_mse}')\n",
    "\n",
    "# calculate Root Mean Squared Error\n",
    "lr_rmse = mean_squared_error(y_test, lr_y_pred, squared=False)\n",
    "print(f'Root Mean Squared Error: {lr_rmse}')\n",
    "\n",
    "# calculate Mean Absolute Error\n",
    "lr_mae = mean_absolute_error(y_test, lr_y_pred)\n",
    "print(f'Mean Absolute Error: {lr_mae}')"
   ]
  },
  {
   "cell_type": "markdown",
   "id": "8e0f1c09",
   "metadata": {},
   "source": [
    "## K-Nearest Neighbor Regression"
   ]
  },
  {
   "cell_type": "markdown",
   "id": "dd516c26",
   "metadata": {},
   "source": [
    "Next, there's KNN regression which has some hyperparameters that can be tuned via RandomSearchCV or GridSearchCV. This model might perform better or worse than linear regression but this will depend on the hyperparameters - it is also more computionally intensive than linear regression."
   ]
  },
  {
   "cell_type": "code",
   "execution_count": 18,
   "id": "cfd824a1",
   "metadata": {},
   "outputs": [
    {
     "name": "stdout",
     "output_type": "stream",
     "text": [
      "Score on training set: 0.999\n",
      "Score on test set: -0.011\n",
      "Mean Squared Error: 605.7802906665904\n",
      "Root Mean Squared Error: 24.612604304839227\n",
      "Mean Absolute Error: 16.951924331462546\n"
     ]
    }
   ],
   "source": [
    "# define the model\n",
    "kn = KNeighborsRegressor(n_neighbors=10, algorithm='auto', weights='distance')\n",
    "\n",
    "# fit the model\n",
    "kn.fit(X_train,y_train)\n",
    "\n",
    "# make predictions\n",
    "kn_y_pred = kn.predict(X_test)\n",
    "\n",
    "# calculate acurracy\n",
    "print(\"Score on training set: {:.3f}\".format(kn.score(X_train, y_train)))\n",
    "print(\"Score on test set: {:.3f}\".format(kn.score(X_test, y_test)))\n",
    "\n",
    "# calculate Mean Squared Error\n",
    "kn_mse = mean_squared_error(y_test, kn_y_pred)\n",
    "print(f'Mean Squared Error: {kn_mse}')\n",
    "\n",
    "# calculate Root Mean Squared Error\n",
    "kn_rmse = mean_squared_error(y_test, kn_y_pred, squared=False)\n",
    "print(f'Root Mean Squared Error: {kn_rmse}')\n",
    "\n",
    "# calculate Mean Absolute Error\n",
    "kn_mae = mean_absolute_error(y_test, kn_y_pred)\n",
    "print(f'Mean Absolute Error: {kn_mae}')"
   ]
  },
  {
   "cell_type": "markdown",
   "id": "39c17ee0",
   "metadata": {},
   "source": [
    "## Random Forest Regression"
   ]
  },
  {
   "cell_type": "markdown",
   "id": "f5fc6cac",
   "metadata": {},
   "source": [
    "Random Forest have in previous testing showed promising results relative to other models, as such we start out by attempting to hone in on its optimal parameters by using Random Search CV and Grid Search CV. This will be done on a smaller sample as this is a resource intensive process."
   ]
  },
  {
   "cell_type": "code",
   "execution_count": null,
   "id": "f154f0d6",
   "metadata": {},
   "outputs": [],
   "source": [
    "f_df_sample = f_df.sample(n=500000, random_state=42)\n",
    "\n",
    "\n",
    "y = f_df_sample['ARRIVAL_DELAY']\n",
    "X = f_df_sample.drop('ARRIVAL_DELAY', axis=1)\n",
    "\n",
    "X_sample_train, X_sample_test, y_sample_train, y_sample_test = train_test_split(X, y, train_size=0.7, random_state=42)"
   ]
  },
  {
   "cell_type": "code",
   "execution_count": null,
   "id": "0cb4bc69",
   "metadata": {},
   "outputs": [],
   "source": [
    "rf_model = rf.RandomForestRegressor()\n",
    "\n",
    "# Parameter grid to search\n",
    "param_grid = {\n",
    "    'n_estimators': [10, 50, 100, 200],\n",
    "    'max_depth': [None, 10, 20, 30],\n",
    "    'min_samples_split': [2, 5, 10, 15],\n",
    "    'min_samples_leaf': [1, 2, 4, 8]\n",
    "}\n",
    "\n",
    "# RandomSearchCV\n",
    "random_search = RandomizedSearchCV(\n",
    "    estimator=xgb_model,\n",
    "    param_distributions=param_grid,\n",
    "    n_iter=50,  \n",
    "    scoring='r2',\n",
    "    cv=4,  \n",
    "    verbose=1,\n",
    "    random_state=42\n",
    ")\n",
    "\n",
    "\n",
    "random_search.fit(X_sample_train, y_sample_train)\n",
    "\n",
    "best_model = random_search.best_estimator_\n",
    "\n",
    "r2_score = best_model.score(X_sample_test, y_sample_test)\n",
    "\n",
    "print(f\"Best parameters: {random_search.best_params_}\")\n",
    "print(f\"R^2 Score: {r2_score}\")"
   ]
  },
  {
   "cell_type": "markdown",
   "id": "213a46f1",
   "metadata": {},
   "source": [
    "Based on the output of the Random Search we'll set appropriate parameters for out Grid Search"
   ]
  },
  {
   "cell_type": "code",
   "execution_count": null,
   "id": "20a851a4",
   "metadata": {},
   "outputs": [],
   "source": [
    "rf_model = rf.RandomForestRegressor()\n",
    "\n",
    "# refined parameter grid based on the results of the random search\n",
    "param_grid = {\n",
    "    'n_estimators': [80, 100, 120],\n",
    "    'max_depth': [20, 30, 40],\n",
    "    'min_samples_split': [2, 4, 6],\n",
    "    'min_samples_leaf': [4, 8, 12]\n",
    "}\n",
    "\n",
    "# GridSearchCV\n",
    "grid_search = GridSearchCV(\n",
    "    estimator=xgb_model,\n",
    "    param_grid=param_grid,\n",
    "    scoring='r2',\n",
    "    cv=4,\n",
    "    verbose=1,\n",
    "    return_train_score=True\n",
    ")\n",
    "\n",
    "\n",
    "grid_search.fit(X_sample_train, y_sample_train)\n",
    "\n",
    "best_model = grid_search.best_estimator_\n",
    "\n",
    "r2_score_test = best_model.score(X_sample_test, y_sample_test)\n",
    "\n",
    "print(f\"Best parameters from GridSearch: {grid_search.best_params_}\")\n",
    "print(f\"Test R^2 Score with GridSearch: {r2_score_test}\")"
   ]
  },
  {
   "cell_type": "markdown",
   "id": "2c62ac0a",
   "metadata": {},
   "source": [
    "Random Forest Regression will likely perform better on the dataframe as it consistently shows greater results from various data and is not prone to overfitting. The hyperparameters could have a significant impact on model performance which is why RandomSearchCV or GridSearchCV should be used to determine optimal tuning settings but this is somewhat limited by the use of sample size for the cross validation."
   ]
  },
  {
   "cell_type": "code",
   "execution_count": 19,
   "id": "d2d0d2f7",
   "metadata": {},
   "outputs": [
    {
     "name": "stdout",
     "output_type": "stream",
     "text": [
      "Accuracy on training set: 0.400\n",
      "Accuracy on test set: 0.167\n",
      "Mean Squared Error: 499.0198023003568\n",
      "Root Mean Squared Error: 22.338751135646703\n",
      "Mean Absolute Error: 15.112356847373581\n"
     ]
    }
   ],
   "source": [
    "# define the model with hyperparameters\n",
    "rf = RandomForestRegressor(n_estimators=100, min_samples_split=2, min_samples_leaf=8, max_depth=30)\n",
    "\n",
    "# fit the model\n",
    "rf.fit(X_train, y_train)\n",
    "\n",
    "# make predictions\n",
    "rf_y_pred = rf.predict(X_test)\n",
    "\n",
    "# calculate accuracy\n",
    "print(\"Accuracy on training set: {:.3f}\".format(rf.score(X_train, y_train)))\n",
    "print(\"Accuracy on test set: {:.3f}\".format(rf.score(X_test, y_test)))\n",
    "\n",
    "\n",
    "# calculate Mean Squared Error\n",
    "rf_mse = mean_squared_error(y_test, rf_y_pred)\n",
    "print(f'Mean Squared Error: {rf_mse}')\n",
    "\n",
    "# calculate Root Mean Squared Error\n",
    "rf_rmse = mean_squared_error(y_test, rf_y_pred, squared=False)\n",
    "print(f'Root Mean Squared Error: {rf_rmse}')\n",
    "\n",
    "# calculate Mean Absolute Error\n",
    "rf_mae = mean_absolute_error(y_test, rf_y_pred)\n",
    "print(f'Mean Absolute Error: {rf_mae}')"
   ]
  },
  {
   "cell_type": "markdown",
   "id": "25512b24",
   "metadata": {},
   "source": [
    "## XGBoost"
   ]
  },
  {
   "cell_type": "markdown",
   "id": "500c3512",
   "metadata": {},
   "source": [
    "XGBoost have in previous testing showed promising results relative to other models as such we start out by attempting to hone in on its optimal parameters by using Random Seach CV and Grid Search CV. This will be done on a smaller sample as this is a resource intensive process."
   ]
  },
  {
   "cell_type": "code",
   "execution_count": null,
   "id": "4c0b1adf",
   "metadata": {},
   "outputs": [],
   "source": [
    "f_df_sample = f_df.sample(n=500000, random_state=42)\n",
    "\n",
    "\n",
    "y = f_df_sample['ARRIVAL_DELAY']\n",
    "X = f_df_sample.drop('ARRIVAL_DELAY', axis=1)\n",
    "\n",
    "X_sample_train, X_sample_test, y_sample_train, y_sample_test = train_test_split(X, y, train_size=0.7, random_state=42)"
   ]
  },
  {
   "cell_type": "code",
   "execution_count": null,
   "id": "7becab2b",
   "metadata": {},
   "outputs": [],
   "source": [
    "xgb_model = xgb.XGBRegressor()\n",
    "\n",
    "# Parameter grid to search\n",
    "param_grid = {\n",
    "    'n_estimators': [100, 200, 300, 400, 500],\n",
    "    'learning_rate': [0.01, 0.05, 0.1, 0.15, 0.2],\n",
    "    'max_depth': [3, 4, 5, 6, 7, 8],\n",
    "    'colsample_bytree': [0.3, 0.5, 0.7, 1],\n",
    "    'subsample': [0.6, 0.7, 0.8, 0.9, 1],\n",
    "    'gamma': [0, 0.1, 0.2, 0.3, 0.4]\n",
    "}\n",
    "\n",
    "# RandomSearchCV\n",
    "random_search = RandomizedSearchCV(\n",
    "    estimator=xgb_model,\n",
    "    param_distributions=param_grid,\n",
    "    n_iter=50, \n",
    "    scoring='r2',\n",
    "    cv=4, \n",
    "    verbose=1,\n",
    "    random_state=42\n",
    ")\n",
    "\n",
    "\n",
    "random_search.fit(X_sample_train, y_sample_train)\n",
    "\n",
    "best_model = random_search.best_estimator_\n",
    "\n",
    "r2_score = best_model.score(X_sample_test, y_sample_test)\n",
    "\n",
    "print(f\"Best parameters: {random_search.best_params_}\")\n",
    "print(f\"R^2 Score: {r2_score}\")"
   ]
  },
  {
   "cell_type": "markdown",
   "id": "16ef24f9",
   "metadata": {},
   "source": [
    "Based on the output of the Random Search we'll set appropriate parameters for out Grid Search"
   ]
  },
  {
   "cell_type": "code",
   "execution_count": null,
   "id": "c82d5b1c",
   "metadata": {},
   "outputs": [],
   "source": [
    "xgb_model = xgb.XGBRegressor()\n",
    "\n",
    "# refined parameter grid based on the results of the random search\n",
    "param_grid = {\n",
    "    'n_estimators': [250, 300, 350],\n",
    "    'learning_rate': [0.03, 0.05, 0.07],\n",
    "    'max_depth': [7, 8, 9],\n",
    "    'colsample_bytree': [0.9, 1, 1.1],\n",
    "    'subsample': [0.5, 0.6, 0.7],\n",
    "    'gamma': [0.1, 0.2, 0.3]\n",
    "}\n",
    "\n",
    "# GridSearchCV\n",
    "grid_search = GridSearchCV(\n",
    "    estimator=xgb_model,\n",
    "    param_grid=param_grid,\n",
    "    scoring='r2',\n",
    "    cv=4,\n",
    "    verbose=1,\n",
    "    return_train_score=True\n",
    ")\n",
    "\n",
    "\n",
    "grid_search.fit(X_sample_train, y_sample_train)\n",
    "\n",
    "best_model = grid_search.best_estimator_\n",
    "\n",
    "r2_score_test = best_model.score(X_sample_test, y_sample_test)\n",
    "\n",
    "print(f\"Best parameters from GridSearch: {grid_search.best_params_}\")\n",
    "print(f\"Test R^2 Score with GridSearch: {r2_score_test}\")"
   ]
  },
  {
   "cell_type": "markdown",
   "id": "afa77d68",
   "metadata": {},
   "source": [
    "XGBoost is a complex algorithm with a large amount of hyperparameters which can be tuned for improved performance. With the right settings either it or Random Forest will likely perform best on the dataframe. The output from the previous cross validation have further been altered manually since these methods were applied to only a subset of the data which means they should adjusted for the application of the whole dataset."
   ]
  },
  {
   "cell_type": "code",
   "execution_count": 19,
   "id": "763f498f",
   "metadata": {},
   "outputs": [
    {
     "ename": "KeyboardInterrupt",
     "evalue": "",
     "output_type": "error",
     "traceback": [
      "\u001b[1;31m---------------------------------------------------------------------------\u001b[0m",
      "\u001b[1;31mKeyboardInterrupt\u001b[0m                         Traceback (most recent call last)",
      "Cell \u001b[1;32mIn[19], line 6\u001b[0m\n\u001b[0;32m      2\u001b[0m xgbmodel \u001b[38;5;241m=\u001b[39m xgb\u001b[38;5;241m.\u001b[39mXGBRegressor(objective \u001b[38;5;241m=\u001b[39m\u001b[38;5;124m'\u001b[39m\u001b[38;5;124mreg:squarederror\u001b[39m\u001b[38;5;124m'\u001b[39m, colsample_bytree \u001b[38;5;241m=\u001b[39m \u001b[38;5;241m1\u001b[39m, learning_rate \u001b[38;5;241m=\u001b[39m \u001b[38;5;241m0.05\u001b[39m,\n\u001b[0;32m      3\u001b[0m                 max_depth \u001b[38;5;241m=\u001b[39m \u001b[38;5;241m12\u001b[39m, min_child_weight \u001b[38;5;241m=\u001b[39m \u001b[38;5;241m8\u001b[39m, n_estimators \u001b[38;5;241m=\u001b[39m \u001b[38;5;241m3000\u001b[39m, subsample \u001b[38;5;241m=\u001b[39m \u001b[38;5;241m0.7\u001b[39m, alpha \u001b[38;5;241m=\u001b[39m \u001b[38;5;241m10\u001b[39m)\n\u001b[0;32m      5\u001b[0m \u001b[38;5;66;03m# fit the model\u001b[39;00m\n\u001b[1;32m----> 6\u001b[0m \u001b[43mxgbmodel\u001b[49m\u001b[38;5;241;43m.\u001b[39;49m\u001b[43mfit\u001b[49m\u001b[43m(\u001b[49m\u001b[43mX_train\u001b[49m\u001b[43m,\u001b[49m\u001b[43m \u001b[49m\u001b[43my_train\u001b[49m\u001b[43m)\u001b[49m\n\u001b[0;32m      8\u001b[0m \u001b[38;5;66;03m# make predictions\u001b[39;00m\n\u001b[0;32m      9\u001b[0m y_pred \u001b[38;5;241m=\u001b[39m xgbmodel\u001b[38;5;241m.\u001b[39mpredict(X_test)\n",
      "File \u001b[1;32mC:\\Anaconda\\Lib\\site-packages\\xgboost\\core.py:729\u001b[0m, in \u001b[0;36mrequire_keyword_args.<locals>.throw_if.<locals>.inner_f\u001b[1;34m(*args, **kwargs)\u001b[0m\n\u001b[0;32m    727\u001b[0m \u001b[38;5;28;01mfor\u001b[39;00m k, arg \u001b[38;5;129;01min\u001b[39;00m \u001b[38;5;28mzip\u001b[39m(sig\u001b[38;5;241m.\u001b[39mparameters, args):\n\u001b[0;32m    728\u001b[0m     kwargs[k] \u001b[38;5;241m=\u001b[39m arg\n\u001b[1;32m--> 729\u001b[0m \u001b[38;5;28;01mreturn\u001b[39;00m \u001b[43mfunc\u001b[49m\u001b[43m(\u001b[49m\u001b[38;5;241;43m*\u001b[39;49m\u001b[38;5;241;43m*\u001b[39;49m\u001b[43mkwargs\u001b[49m\u001b[43m)\u001b[49m\n",
      "File \u001b[1;32mC:\\Anaconda\\Lib\\site-packages\\xgboost\\sklearn.py:1086\u001b[0m, in \u001b[0;36mXGBModel.fit\u001b[1;34m(self, X, y, sample_weight, base_margin, eval_set, eval_metric, early_stopping_rounds, verbose, xgb_model, sample_weight_eval_set, base_margin_eval_set, feature_weights, callbacks)\u001b[0m\n\u001b[0;32m   1075\u001b[0m     obj \u001b[38;5;241m=\u001b[39m \u001b[38;5;28;01mNone\u001b[39;00m\n\u001b[0;32m   1077\u001b[0m (\n\u001b[0;32m   1078\u001b[0m     model,\n\u001b[0;32m   1079\u001b[0m     metric,\n\u001b[1;32m   (...)\u001b[0m\n\u001b[0;32m   1084\u001b[0m     xgb_model, eval_metric, params, early_stopping_rounds, callbacks\n\u001b[0;32m   1085\u001b[0m )\n\u001b[1;32m-> 1086\u001b[0m \u001b[38;5;28mself\u001b[39m\u001b[38;5;241m.\u001b[39m_Booster \u001b[38;5;241m=\u001b[39m \u001b[43mtrain\u001b[49m\u001b[43m(\u001b[49m\n\u001b[0;32m   1087\u001b[0m \u001b[43m    \u001b[49m\u001b[43mparams\u001b[49m\u001b[43m,\u001b[49m\n\u001b[0;32m   1088\u001b[0m \u001b[43m    \u001b[49m\u001b[43mtrain_dmatrix\u001b[49m\u001b[43m,\u001b[49m\n\u001b[0;32m   1089\u001b[0m \u001b[43m    \u001b[49m\u001b[38;5;28;43mself\u001b[39;49m\u001b[38;5;241;43m.\u001b[39;49m\u001b[43mget_num_boosting_rounds\u001b[49m\u001b[43m(\u001b[49m\u001b[43m)\u001b[49m\u001b[43m,\u001b[49m\n\u001b[0;32m   1090\u001b[0m \u001b[43m    \u001b[49m\u001b[43mevals\u001b[49m\u001b[38;5;241;43m=\u001b[39;49m\u001b[43mevals\u001b[49m\u001b[43m,\u001b[49m\n\u001b[0;32m   1091\u001b[0m \u001b[43m    \u001b[49m\u001b[43mearly_stopping_rounds\u001b[49m\u001b[38;5;241;43m=\u001b[39;49m\u001b[43mearly_stopping_rounds\u001b[49m\u001b[43m,\u001b[49m\n\u001b[0;32m   1092\u001b[0m \u001b[43m    \u001b[49m\u001b[43mevals_result\u001b[49m\u001b[38;5;241;43m=\u001b[39;49m\u001b[43mevals_result\u001b[49m\u001b[43m,\u001b[49m\n\u001b[0;32m   1093\u001b[0m \u001b[43m    \u001b[49m\u001b[43mobj\u001b[49m\u001b[38;5;241;43m=\u001b[39;49m\u001b[43mobj\u001b[49m\u001b[43m,\u001b[49m\n\u001b[0;32m   1094\u001b[0m \u001b[43m    \u001b[49m\u001b[43mcustom_metric\u001b[49m\u001b[38;5;241;43m=\u001b[39;49m\u001b[43mmetric\u001b[49m\u001b[43m,\u001b[49m\n\u001b[0;32m   1095\u001b[0m \u001b[43m    \u001b[49m\u001b[43mverbose_eval\u001b[49m\u001b[38;5;241;43m=\u001b[39;49m\u001b[43mverbose\u001b[49m\u001b[43m,\u001b[49m\n\u001b[0;32m   1096\u001b[0m \u001b[43m    \u001b[49m\u001b[43mxgb_model\u001b[49m\u001b[38;5;241;43m=\u001b[39;49m\u001b[43mmodel\u001b[49m\u001b[43m,\u001b[49m\n\u001b[0;32m   1097\u001b[0m \u001b[43m    \u001b[49m\u001b[43mcallbacks\u001b[49m\u001b[38;5;241;43m=\u001b[39;49m\u001b[43mcallbacks\u001b[49m\u001b[43m,\u001b[49m\n\u001b[0;32m   1098\u001b[0m \u001b[43m\u001b[49m\u001b[43m)\u001b[49m\n\u001b[0;32m   1100\u001b[0m \u001b[38;5;28mself\u001b[39m\u001b[38;5;241m.\u001b[39m_set_evaluation_result(evals_result)\n\u001b[0;32m   1101\u001b[0m \u001b[38;5;28;01mreturn\u001b[39;00m \u001b[38;5;28mself\u001b[39m\n",
      "File \u001b[1;32mC:\\Anaconda\\Lib\\site-packages\\xgboost\\core.py:729\u001b[0m, in \u001b[0;36mrequire_keyword_args.<locals>.throw_if.<locals>.inner_f\u001b[1;34m(*args, **kwargs)\u001b[0m\n\u001b[0;32m    727\u001b[0m \u001b[38;5;28;01mfor\u001b[39;00m k, arg \u001b[38;5;129;01min\u001b[39;00m \u001b[38;5;28mzip\u001b[39m(sig\u001b[38;5;241m.\u001b[39mparameters, args):\n\u001b[0;32m    728\u001b[0m     kwargs[k] \u001b[38;5;241m=\u001b[39m arg\n\u001b[1;32m--> 729\u001b[0m \u001b[38;5;28;01mreturn\u001b[39;00m \u001b[43mfunc\u001b[49m\u001b[43m(\u001b[49m\u001b[38;5;241;43m*\u001b[39;49m\u001b[38;5;241;43m*\u001b[39;49m\u001b[43mkwargs\u001b[49m\u001b[43m)\u001b[49m\n",
      "File \u001b[1;32mC:\\Anaconda\\Lib\\site-packages\\xgboost\\training.py:181\u001b[0m, in \u001b[0;36mtrain\u001b[1;34m(params, dtrain, num_boost_round, evals, obj, feval, maximize, early_stopping_rounds, evals_result, verbose_eval, xgb_model, callbacks, custom_metric)\u001b[0m\n\u001b[0;32m    179\u001b[0m \u001b[38;5;28;01mif\u001b[39;00m cb_container\u001b[38;5;241m.\u001b[39mbefore_iteration(bst, i, dtrain, evals):\n\u001b[0;32m    180\u001b[0m     \u001b[38;5;28;01mbreak\u001b[39;00m\n\u001b[1;32m--> 181\u001b[0m \u001b[43mbst\u001b[49m\u001b[38;5;241;43m.\u001b[39;49m\u001b[43mupdate\u001b[49m\u001b[43m(\u001b[49m\u001b[43mdtrain\u001b[49m\u001b[43m,\u001b[49m\u001b[43m \u001b[49m\u001b[43mi\u001b[49m\u001b[43m,\u001b[49m\u001b[43m \u001b[49m\u001b[43mobj\u001b[49m\u001b[43m)\u001b[49m\n\u001b[0;32m    182\u001b[0m \u001b[38;5;28;01mif\u001b[39;00m cb_container\u001b[38;5;241m.\u001b[39mafter_iteration(bst, i, dtrain, evals):\n\u001b[0;32m    183\u001b[0m     \u001b[38;5;28;01mbreak\u001b[39;00m\n",
      "File \u001b[1;32mC:\\Anaconda\\Lib\\site-packages\\xgboost\\core.py:2050\u001b[0m, in \u001b[0;36mBooster.update\u001b[1;34m(self, dtrain, iteration, fobj)\u001b[0m\n\u001b[0;32m   2046\u001b[0m \u001b[38;5;28mself\u001b[39m\u001b[38;5;241m.\u001b[39m_assign_dmatrix_features(dtrain)\n\u001b[0;32m   2048\u001b[0m \u001b[38;5;28;01mif\u001b[39;00m fobj \u001b[38;5;129;01mis\u001b[39;00m \u001b[38;5;28;01mNone\u001b[39;00m:\n\u001b[0;32m   2049\u001b[0m     _check_call(\n\u001b[1;32m-> 2050\u001b[0m         \u001b[43m_LIB\u001b[49m\u001b[38;5;241;43m.\u001b[39;49m\u001b[43mXGBoosterUpdateOneIter\u001b[49m\u001b[43m(\u001b[49m\n\u001b[0;32m   2051\u001b[0m \u001b[43m            \u001b[49m\u001b[38;5;28;43mself\u001b[39;49m\u001b[38;5;241;43m.\u001b[39;49m\u001b[43mhandle\u001b[49m\u001b[43m,\u001b[49m\u001b[43m \u001b[49m\u001b[43mctypes\u001b[49m\u001b[38;5;241;43m.\u001b[39;49m\u001b[43mc_int\u001b[49m\u001b[43m(\u001b[49m\u001b[43miteration\u001b[49m\u001b[43m)\u001b[49m\u001b[43m,\u001b[49m\u001b[43m \u001b[49m\u001b[43mdtrain\u001b[49m\u001b[38;5;241;43m.\u001b[39;49m\u001b[43mhandle\u001b[49m\n\u001b[0;32m   2052\u001b[0m \u001b[43m        \u001b[49m\u001b[43m)\u001b[49m\n\u001b[0;32m   2053\u001b[0m     )\n\u001b[0;32m   2054\u001b[0m \u001b[38;5;28;01melse\u001b[39;00m:\n\u001b[0;32m   2055\u001b[0m     pred \u001b[38;5;241m=\u001b[39m \u001b[38;5;28mself\u001b[39m\u001b[38;5;241m.\u001b[39mpredict(dtrain, output_margin\u001b[38;5;241m=\u001b[39m\u001b[38;5;28;01mTrue\u001b[39;00m, training\u001b[38;5;241m=\u001b[39m\u001b[38;5;28;01mTrue\u001b[39;00m)\n",
      "\u001b[1;31mKeyboardInterrupt\u001b[0m: "
     ]
    }
   ],
   "source": [
    "# define model with hyperparameters\n",
    "xgbmodel = xgb.XGBRegressor(objective ='reg:squarederror', colsample_bytree = 1, learning_rate = 0.05,\n",
    "                max_depth = 12, min_child_weight = 8, n_estimators = 3000, subsample = 0.7, alpha = 10)\n",
    "\n",
    "# fit the model\n",
    "xgbmodel.fit(X_train, y_train)\n",
    "\n",
    "# make predictions\n",
    "y_pred = xgbmodel.predict(X_test)\n",
    "\n",
    "# calculate accuracy\n",
    "print(\"Accuracy on training set: {:.3f}\".format(xgbmodel.score(X_train, y_train)))\n",
    "print(\"Accuracy on test set: {:.3f}\".format(xgbmodel.score(X_test, y_test)))\n",
    "\n",
    "# calculate Mean Squared Error\n",
    "xgb_mse = mean_squared_error(y_test, y_pred)\n",
    "print(f'Mean Squared Error: {xgb_mse}')\n",
    "\n",
    "# calculate Root Mean Squared Error\n",
    "xgb_rmse = mean_squared_error(y_test, y_pred, squared=False)\n",
    "print(f'Root Mean Squared Error: {xgb_rmse}')\n",
    "\n",
    "# calculate Mean Absolute Error\n",
    "xgb_mae = mean_absolute_error(y_test, y_pred)\n",
    "print(f'Mean Absolute Error: {xgb_mae}')"
   ]
  },
  {
   "cell_type": "markdown",
   "id": "98596f33",
   "metadata": {},
   "source": [
    "# Results and model evaluation"
   ]
  },
  {
   "cell_type": "markdown",
   "id": "33a58e5b",
   "metadata": {},
   "source": [
    "Displays the results in a matrix"
   ]
  },
  {
   "cell_type": "code",
   "execution_count": null,
   "id": "82bc55ab",
   "metadata": {},
   "outputs": [],
   "source": [
    "results = pd.DataFrame({\n",
    "    'Model': ['Linear Regression', 'KNN', 'Random Forest', 'XGBoost'],  \n",
    "    'MSE': [lr_mse, kn_mse, rf_mse, xgb_mse],  # \n",
    "    'RMSE': [lr_rmse, kn_rmse, rf_rmse, xgb_rmse],  \n",
    "    'MAE': [lr_mae, kn_mae, rf_mae, xgb_mae] \n",
    "})\n",
    "\n",
    "results"
   ]
  },
  {
   "cell_type": "markdown",
   "id": "cfa2a4ef",
   "metadata": {},
   "source": [
    "## K-fold cross validation"
   ]
  },
  {
   "cell_type": "markdown",
   "id": "142e9566",
   "metadata": {},
   "source": [
    "We'll do a k-fold cross validation for Random Forest then XGBoost to see if the results were compromised due to the train test split. This will done on a sample size due to the resource intesive nature of this task."
   ]
  },
  {
   "cell_type": "code",
   "execution_count": null,
   "id": "33e4e3f2",
   "metadata": {},
   "outputs": [],
   "source": [
    "f_df_sample = f_df.sample(n=500000, random_state=42)\n",
    "\n",
    "\n",
    "y = f_df_sample['ARRIVAL_DELAY']\n",
    "X = f_df_sample.drop('ARRIVAL_DELAY', axis=1)\n",
    "\n",
    "X_sample_train, X_sample_test, y_sample_train, y_sample_test = train_test_split(X, y, train_size=0.7, random_state=42)"
   ]
  },
  {
   "cell_type": "code",
   "execution_count": null,
   "id": "871723e7",
   "metadata": {},
   "outputs": [],
   "source": [
    "rf = RandomForestRegressor(n_estimators=100, min_samples_split=2, min_samples_leaf=8, max_depth=30)\n",
    "\n",
    "# performing K-fold cross-validation\n",
    "scores = cross_val_score(rf, X_sample_train, y_sample_train, scoring='r2', cv=4)\n",
    "\n",
    "# calculating the average performance \n",
    "average_score = np.mean(scores)\n",
    "\n",
    "\n",
    "print(\"Average R-squared Score:\", average_score)\n",
    "print(\"R-squared Scores for each fold:\", scores)"
   ]
  },
  {
   "cell_type": "markdown",
   "id": "ffa6bb6a",
   "metadata": {},
   "source": [
    "Now for XGB"
   ]
  },
  {
   "cell_type": "code",
   "execution_count": null,
   "id": "ebafc4d3",
   "metadata": {},
   "outputs": [],
   "source": [
    "xgbmodel = xgb.XGBRegressor(objective ='reg:squarederror', colsample_bytree = 1, learning_rate = 0.05,\n",
    "                max_depth = 12, min_child_weight = 8, n_estimators = 3000, subsample = 0.7, alpha = 10)\n",
    "\n",
    "# performing K-fold cross-validation\n",
    "scores = cross_val_score(xgbmodel, X_sample_train, y_sample_train, scoring='r2', cv=4)\n",
    "\n",
    "# calculating the average performance \n",
    "average_score = np.mean(scores)\n",
    "\n",
    "\n",
    "print(\"Average R-squared Score:\", average_score)\n",
    "print(\"R-squared Scores for each fold:\", scores)"
   ]
  }
 ],
 "metadata": {
  "kernelspec": {
   "display_name": "Python 3 (ipykernel)",
   "language": "python",
   "name": "python3"
  },
  "language_info": {
   "codemirror_mode": {
    "name": "ipython",
    "version": 3
   },
   "file_extension": ".py",
   "mimetype": "text/x-python",
   "name": "python",
   "nbconvert_exporter": "python",
   "pygments_lexer": "ipython3",
   "version": "3.11.4"
  }
 },
 "nbformat": 4,
 "nbformat_minor": 5
}
