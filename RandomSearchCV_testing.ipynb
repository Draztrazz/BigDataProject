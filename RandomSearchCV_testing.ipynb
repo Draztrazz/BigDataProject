{
 "cells": [
  {
   "cell_type": "code",
   "execution_count": null,
   "id": "1d411188",
   "metadata": {},
   "outputs": [],
   "source": [
    "# for data handling\n",
    "import pandas as pd\n",
    "import numpy as np\n",
    "\n",
    "# train-test split\n",
    "from sklearn.model_selection import train_test_split\n",
    "\n",
    "# loss functions for today\n",
    "from sklearn.metrics import mean_squared_error\n",
    "from sklearn.metrics import mean_absolute_error\n",
    "\n",
    "# dummy models for comparison\n",
    "from sklearn.dummy import DummyRegressor\n",
    "from sklearn.dummy import DummyClassifier\n",
    "\n",
    "# regression models\n",
    "from sklearn.linear_model import LinearRegression\n",
    "from sklearn.neighbors import KNeighborsRegressor\n",
    "from sklearn.ensemble import RandomForestRegressor\n",
    "\n",
    "# for removing outliers\n",
    "from scipy import stats\n",
    "\n",
    "# for identifying best parameters\n",
    "from sklearn.model_selection import RandomizedSearchCV"
   ]
  },
  {
   "cell_type": "code",
   "execution_count": null,
   "id": "65860f94",
   "metadata": {},
   "outputs": [],
   "source": [
    "flight_df = pd.read_csv('flights.csv', dtype={'DESTINATION_AIRPORT': str, 'ORIGIN_AIRPORT': str})\n",
    "airports_df = pd.read_csv('airports.csv')"
   ]
  },
  {
   "cell_type": "code",
   "execution_count": null,
   "id": "b806f117",
   "metadata": {},
   "outputs": [],
   "source": [
    "f_df = flight_df.copy()\n",
    "a_df = airports_df.copy()"
   ]
  },
  {
   "cell_type": "code",
   "execution_count": null,
   "id": "d3221266",
   "metadata": {},
   "outputs": [],
   "source": [
    "f_df = pd.merge(f_df, a_df, left_on='ORIGIN_AIRPORT', right_on='IATA_CODE', how='left')\n",
    "f_df = f_df.rename(columns={'STATE': 'ORIGIN_STATE'})\n",
    "f_df = f_df.drop(columns=['IATA_CODE'])\n",
    "\n",
    "f_df = pd.merge(f_df, a_df, left_on='DESTINATION_AIRPORT', right_on='IATA_CODE', how='left')\n",
    "f_df = f_df.rename(columns={'STATE': 'DESTINATION_STATE'})\n",
    "f_df = f_df.drop(columns=['IATA_CODE'])\n",
    "\n",
    "f_df['ORIGIN_STATE'] = f_df['ORIGIN_STATE']\n",
    "f_df['DESTINATION_STATE'] = f_df['DESTINATION_STATE']\n",
    "\n",
    "#f_df.head()    "
   ]
  },
  {
   "cell_type": "code",
   "execution_count": null,
   "id": "db7573a2",
   "metadata": {},
   "outputs": [],
   "source": [
    "f_df = f_df.drop(['COUNTRY_x', 'LATITUDE_x', 'LONGITUDE_x', 'AIRPORT_y', 'CITY_y', 'COUNTRY_y', 'LATITUDE_y',\n",
    "                  'LONGITUDE_y', 'AIRPORT_x', 'CITY_x'], axis=1)\n",
    "\n",
    "f_df = f_df[f_df['MONTH'] != 10]"
   ]
  },
  {
   "cell_type": "code",
   "execution_count": null,
   "id": "979d16e2",
   "metadata": {},
   "outputs": [],
   "source": [
    "f_df['SCHEDULED_DEPARTURE'] = pd.to_datetime(f_df['SCHEDULED_DEPARTURE'], format='%H%M', errors='coerce')\n",
    "\n",
    "f_df['SCHEDULED_ARRIVAL'] = pd.to_datetime(f_df['SCHEDULED_ARRIVAL'], format='%H%M', errors='coerce')\n",
    "\n",
    "f_df['DEPARTURE_HOUR'] = f_df['SCHEDULED_DEPARTURE'].dt.hour\n",
    "f_df['DEPARTURE_MINUTE'] = f_df['SCHEDULED_DEPARTURE'].dt.minute\n",
    "\n",
    "f_df['ARRIVAL_HOUR'] = f_df['SCHEDULED_ARRIVAL'].dt.hour\n",
    "f_df['ARRIVAL_MINUTE'] = f_df['SCHEDULED_ARRIVAL'].dt.minute\n",
    "\n",
    "f_df = f_df.drop(['SCHEDULED_DEPARTURE', 'SCHEDULED_ARRIVAL'], axis=1)\n",
    "\n"
   ]
  },
  {
   "cell_type": "code",
   "execution_count": null,
   "id": "60888e4f",
   "metadata": {},
   "outputs": [],
   "source": [
    "f_df = f_df.drop(['YEAR', 'DEPARTURE_DELAY', 'DEPARTURE_TIME', 'TAXI_OUT','WHEELS_OFF', 'ELAPSED_TIME', 'AIR_TIME',\n",
    "                  'WHEELS_ON','TAXI_IN','ARRIVAL_TIME','DIVERTED','CANCELLED', 'CANCELLATION_REASON', 'AIR_SYSTEM_DELAY',\n",
    "                   'SECURITY_DELAY', 'AIRLINE_DELAY', 'LATE_AIRCRAFT_DELAY', 'WEATHER_DELAY'], axis=1)\n",
    "\n",
    "# Drop TAIL_NUMBER for now due to value error\n",
    "f_df = f_df.drop(['TAIL_NUMBER', 'FLIGHT_NUMBER', 'DISTANCE'], axis=1)\n",
    "\n"
   ]
  },
  {
   "cell_type": "code",
   "execution_count": null,
   "id": "b65db3bf",
   "metadata": {},
   "outputs": [],
   "source": [
    "f_df = f_df.drop(['ORIGIN_AIRPORT', 'DESTINATION_AIRPORT'], axis=1)\n",
    "\n",
    "\n",
    "columns_to_encode = ['AIRLINE', 'ORIGIN_STATE', 'DESTINATION_STATE']\n",
    "\n",
    "f_df = pd.get_dummies(f_df, columns=columns_to_encode,  drop_first=True)\n"
   ]
  },
  {
   "cell_type": "code",
   "execution_count": null,
   "id": "3a279a38",
   "metadata": {},
   "outputs": [],
   "source": [
    "f_df = f_df.dropna()"
   ]
  },
  {
   "cell_type": "code",
   "execution_count": null,
   "id": "e02d2c40",
   "metadata": {},
   "outputs": [],
   "source": [
    "\n",
    "z_scores = stats.zscore(f_df['ARRIVAL_DELAY'])\n",
    "abs_z_scores = abs(z_scores)\n",
    "\n",
    "# Define a threshold (e.g., 3) for outlier detection\n",
    "threshold = 3\n",
    "outliers = (abs_z_scores > threshold)\n",
    "\n",
    "# Remove outliers\n",
    "f_df = f_df[~outliers]"
   ]
  },
  {
   "cell_type": "code",
   "execution_count": null,
   "id": "179954ed",
   "metadata": {},
   "outputs": [],
   "source": [
    "y = f_df['ARRIVAL_DELAY']\n",
    "X = f_df.drop('ARRIVAL_DELAY', axis=1)\n",
    "\n",
    "X_train, X_test, y_train, y_test = train_test_split(X, y, train_size=0.7, random_state=42)"
   ]
  },
  {
   "cell_type": "code",
   "execution_count": null,
   "id": "59038355",
   "metadata": {},
   "outputs": [],
   "source": [
    "# Define the parameter grid\n",
    "param_distributions = {\n",
    "    'n_estimators': np.arange(100, 1001, 100),\n",
    "    'max_depth': [None] + list(np.arange(10, 101, 10)),\n",
    "    'min_samples_split': np.arange(2, 11, 1),\n",
    "    'min_samples_leaf': np.arange(1, 5, 1),\n",
    "    'bootstrap': [True, False],\n",
    "    'max_features': ['auto', 'sqrt', 'log2'] + list(np.linspace(0.1, 1.0, 10))\n",
    "}\n",
    "\n",
    "#print(param_distributions)"
   ]
  },
  {
   "cell_type": "code",
   "execution_count": null,
   "id": "2539344e",
   "metadata": {},
   "outputs": [],
   "source": [
    "# First create the base model to tune\n",
    "rf = RandomForestRegressor()\n",
    "# Random search of parameters, using 3 fold cross validation, \n",
    "# search across 100 different combinations, and use all available cores\n",
    "random_search = RandomizedSearchCV(estimator=rf, param_distributions=param_distributions, \n",
    "                                   n_iter=100, cv=3, verbose=2, random_state=42, n_jobs=-1)\n",
    "# Fit the random search model\n",
    "random_search.fit(X_train, y_train)\n",
    "\n",
    "# Print the best parameters and corresponding score\n",
    "print(\"Best Parameters: \", random_search.best_params_)\n",
    "#print(\"Best R-squared Score: {:.4f}\".format(random_search.best_score_))\n",
    "\n"
   ]
  },
  {
   "cell_type": "markdown",
   "id": "c5be0258",
   "metadata": {},
   "source": [
    "Switch out the parameters beloew with the 'best' ones given by the random search a see what score it produces."
   ]
  },
  {
   "cell_type": "code",
   "execution_count": null,
   "id": "b0478d42",
   "metadata": {},
   "outputs": [],
   "source": [
    "rf = RandomForestRegressor(n_estimators=100, min_samples_split=2, min_samples_leaf=8, max_depth=30)\n",
    "rf.fit(X_train, y_train)\n",
    "rf_y_pred = rf.predict(X_test)\n",
    "print(\"Accuracy on training set: {:.3f}\".format(rf.score(X_train, y_train)))\n",
    "print(\"Accuracy on test set: {:.3f}\".format(rf.score(X_test, y_test)))\n",
    "\n",
    "mse = mean_squared_error(y_test, rf_y_pred)\n",
    "\n",
    "print(f'Mean Squared Error: {mse}')"
   ]
  }
 ],
 "metadata": {
  "kernelspec": {
   "display_name": "Python 3 (ipykernel)",
   "language": "python",
   "name": "python3"
  },
  "language_info": {
   "codemirror_mode": {
    "name": "ipython",
    "version": 3
   },
   "file_extension": ".py",
   "mimetype": "text/x-python",
   "name": "python",
   "nbconvert_exporter": "python",
   "pygments_lexer": "ipython3",
   "version": "3.11.4"
  }
 },
 "nbformat": 4,
 "nbformat_minor": 5
}
